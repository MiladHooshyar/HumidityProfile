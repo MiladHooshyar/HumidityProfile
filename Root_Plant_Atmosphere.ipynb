{
 "cells": [
  {
   "cell_type": "code",
   "execution_count": 1,
   "metadata": {},
   "outputs": [],
   "source": [
    "import numpy as np\n",
    "import matplotlib.pyplot as plt"
   ]
  },
  {
   "cell_type": "markdown",
   "metadata": {},
   "source": [
    "## Javis stomatal conductance"
   ]
  },
  {
   "cell_type": "code",
   "execution_count": 1,
   "metadata": {},
   "outputs": [],
   "source": [
    "def javis_stomatal_conductance(phi, T_a, sai_l, RH):\n",
    "    f_phi = 1 - np.exp(-k_1 * phi)\n",
    "    \n",
    "    f_T_a = 1 - k_2 * (T_a - T_opt) ** 2\n",
    "    \n",
    "    if sai_l < sai_l_0:\n",
    "        f_sai_l = 0.\n",
    "    elif sai_l_0 <= sai_l and sai_l <= sai_l_1:\n",
    "        f_sai_l = (sai_l - sai_l_0) / (sai_l_1 - sai_l_0)\n",
    "    else:\n",
    "        f_sai_l = 1.\n",
    "    _, _, vpd = e_and_VPD(RH, T_a)\n",
    "    f_D = 1. / (1 + vpd / D_x)\n",
    "    g_s = g_s_max * f_phi * f_T_a * f_sai_l * f_D\n",
    "    return g_s\n",
    "    \n",
    "def e_and_VPD(RH, T):\n",
    "    e_sat = 611.71 * np.exp(2.501 / (.461*10**-3) * (1./273.15 - 1./T))\n",
    "    e = RH / 100. * e_sat\n",
    "    vpd = e_sat - e\n",
    "    return e, e_sat, vpd\n",
    "\n",
    "def RH_from_e(e, T):\n",
    "    e_sat = 611.71 * np.exp(2.501 / (.461*10**-3) * (1./273.15 - 1./T))\n",
    "    RH = e / e_sat * 100\n",
    "    return RH"
   ]
  },
  {
   "cell_type": "markdown",
   "metadata": {},
   "source": [
    "## Soil-root-plant conductance"
   ]
  },
  {
   "cell_type": "code",
   "execution_count": 3,
   "metadata": {},
   "outputs": [],
   "source": [
    "def soil_plant_root_conductance(sai_l, s):\n",
    "    RAI = RAIW * s ** (-a)\n",
    "    L = 0.11574 * K_s * s ** (2. * b + 3.)\n",
    "    g_sr = (L * np.sqrt(RAI) * 10 ** 6) / (np.pi * g * row_w * Z_r)\n",
    "    g_p = g_p_max * np.exp(-(-sai_l/ d_1) ** c)\n",
    "    g_srp = (LAI * g_sr * g_p) / (g_sr + LAI * g_p)\n",
    "    return g_srp"
   ]
  },
  {
   "cell_type": "markdown",
   "metadata": {},
   "source": [
    "## Atmospheric conductance"
   ]
  },
  {
   "cell_type": "code",
   "execution_count": 4,
   "metadata": {},
   "outputs": [],
   "source": [
    "def atmospheric_conductance():\n",
    "    g_a = 100. * U_w * k ** 2 / (np.log((h_c - d) / z_o) * np.log((h_c - d) / z_oq))\n",
    "    return g_a"
   ]
  },
  {
   "cell_type": "code",
   "execution_count": 12,
   "metadata": {},
   "outputs": [],
   "source": [
    "def solver_objective_Tl_given(sai_l, T_l, g_srp, g_sa, sai_s, RH, T_a, p0):\n",
    "    \n",
    "    E_1 = g_srp * (sai_s - sai_l) * 10 ** (-3) * 24. * 3600.\n",
    "    \n",
    "    e_a, e_sat_a, _ = e_and_VPD(RH, T_a)\n",
    "    esat_l = 611.71 * np.exp(2.501 / (.461*10**-3) * (1./273.15 - 1./T_l))\n",
    "    e_l = esat_l * np.exp(nuv * (sai_l - g * row_w * h_c) / R /T_l);\n",
    "    E_2 = g_sa * 0.622 / p0 * (e_l - e_a) * row / row_w * 24. * 3600.\n",
    "    \n",
    "    return np.abs(E_1 - E_2)"
   ]
  },
  {
   "cell_type": "code",
   "execution_count": 18,
   "metadata": {},
   "outputs": [],
   "source": [
    "## Global physical\n",
    "global g, row_w, nuv, R, lambda_w, c_p\n",
    "g = 9.8\n",
    "row_w = 1000.\n",
    "nuv = 18. / (1000. * row_w)\n",
    "R = 8.314\n",
    "row = 1.225\n",
    "c_p = 1005\n",
    "lambda_w = 2.45 * 10 ** 6\n",
    "\n",
    "## Global variables related to atmospheric conductance\n",
    "global U_w, k, h_c, d, z_o, z_oq\n",
    "U_w = 5.\n",
    "h_c = 20.\n",
    "k = 0.41\n",
    "d = 0.7 * h_c\n",
    "z_o = d / 10.\n",
    "z_oq = 0.2 * z_o\n",
    "\n",
    "## Global variables related to stomatal conductance\n",
    "global g_s_max, k_1, k_2, T_opt, sai_l_0, sai_l_1, D_x\n",
    "g_s_max = 25\n",
    "k_1 = 0.005\n",
    "k_2 = 0.0016\n",
    "T_opt = 298.\n",
    "sai_l_0 = -4.5\n",
    "sai_l_1 = -0.05\n",
    "D_x = 1250.\n",
    "\n",
    "## Global variables related to soil-root-plant conductance\n",
    "global g_p_max, a, b, c, d_1, RAIW, Z_r, LAI, sai_s_s, K_s\n",
    "g_p_max = 11.7\n",
    "a = 8.\n",
    "b = 5.39\n",
    "c = 2.\n",
    "d_1 = 2.\n",
    "Z_r  = 0.6\n",
    "RAIW = 5.\n",
    "LAI = 1.4\n",
    "sai_s_s = -1.43 * 10 ** (-3)\n",
    "K_s = 20."
   ]
  },
  {
   "cell_type": "code",
   "execution_count": 30,
   "metadata": {},
   "outputs": [
    {
     "name": "stdout",
     "output_type": "stream",
     "text": [
      "3.0209083177395235 0.10670439078756616 18.845057500992738\n"
     ]
    }
   ],
   "source": [
    "phi = 400.\n",
    "RH = 30.\n",
    "T_a = 293.\n",
    "p0 = 101.325 * 10 ** 3\n",
    "s = 0.45\n",
    "sai_s = sai_s_s * s ** (-b)\n",
    "\n",
    "sai_l = -3.\n",
    "\n",
    "g_s = javis_stomatal_conductance(phi, T_a, sai_l, RH)\n",
    "g_a = atmospheric_conductance()\n",
    "g_sa = (g_a * g_s) / (g_a + g_s)\n",
    "\n",
    "g_srp = soil_plant_root_conductance(sai_l, s)\n",
    "\n",
    "print g_s, g_srp, g_a"
   ]
  },
  {
   "cell_type": "code",
   "execution_count": 32,
   "metadata": {},
   "outputs": [
    {
     "data": {
      "text/plain": [
       "(array([ -1.03491965, 299.18231643]), array(0.))"
      ]
     },
     "execution_count": 32,
     "metadata": {},
     "output_type": "execute_result"
    }
   ],
   "source": [
    "from scipy.optimize import differential_evolution\n",
    "\n",
    "def solver_objective(x, s, RH, T_a, p0, phi):\n",
    "    sai_l = x[0]\n",
    "    T_l = x[1]\n",
    "    \n",
    "    sai_s = sai_s_s * s ** (-b)\n",
    "    g_a = atmospheric_conductance()\n",
    "    g_s = javis_stomatal_conductance(phi, T_a, sai_l, RH)\n",
    "    g_sa = (g_a * g_s) / (g_a + g_s)\n",
    "    g_srp = soil_plant_root_conductance(sai_l, s)\n",
    "    \n",
    "    e_a, e_sat_a, _ = e_and_VPD(RH, T_a)\n",
    "    esat_l = 611.71 * np.exp(2.501 / (.461*10**-3) * (1./273.15 - 1./T_l))\n",
    "    e_l = esat_l * np.exp(nuv * (sai_l - g * row_w * h_c) / R /T_l);\n",
    "    \n",
    "    E_1 = g_srp * (sai_s - sai_l) * 10 ** (-3) * 24. * 3600.\n",
    "    E_2 = g_sa * 0.622 / p0 * (e_l - e_a) * row / row_w * 24. * 3600.\n",
    "    E_3 = (phi - row * c_p * g_a * 10**(-3) * (T_l - T_a)) / (row_w * lambda_w) * 1000 * 24 * 3600 \n",
    "    \n",
    "    diff = np.abs(E_1 - E_2) + np.abs(E_1 - E_3)\n",
    "    return diff\n",
    "\n",
    "bounds = [(-5, 0), (310, 290)]\n",
    "result = differential_evolution(solver_objective, bounds, args=(s, RH, T_a, p0, phi))\n",
    "result.x, result.fun"
   ]
  },
  {
   "cell_type": "code",
   "execution_count": null,
   "metadata": {},
   "outputs": [],
   "source": []
  }
 ],
 "metadata": {
  "kernelspec": {
   "display_name": "Python 2",
   "language": "python",
   "name": "python2"
  },
  "language_info": {
   "codemirror_mode": {
    "name": "ipython",
    "version": 2
   },
   "file_extension": ".py",
   "mimetype": "text/x-python",
   "name": "python",
   "nbconvert_exporter": "python",
   "pygments_lexer": "ipython2",
   "version": "2.7.15"
  }
 },
 "nbformat": 4,
 "nbformat_minor": 2
}
