{
 "cells": [
  {
   "cell_type": "code",
   "execution_count": 40,
   "metadata": {},
   "outputs": [],
   "source": [
    "import numpy as np\n",
    "import matplotlib.pyplot as plt\n",
    "from scipy.optimize import differential_evolution"
   ]
  },
  {
   "cell_type": "markdown",
   "metadata": {},
   "source": [
    "### Budget equation longitundnal momentum\n",
    "The budget equation is given as:\n",
    "\n",
    "$ \\frac{\\partial{<\\overline{u}>}}{\\partial{t}} = -C_d A(z) {<\\overline{u}>}^2 -  \\frac{\\partial{<\\overline{w' u'}>}}{\\partial{z}}$\n",
    "\n",
    "The funtion \"budget_momentum\", gets $<\\overline{u}>(t=t_c,z)$, and $\\frac{\\partial{<\\overline{w' u'}>}}{\\partial{z}}(t=t_c, z)$ to compute $<\\overline{u}>(t=t_c+dt,z)$"
   ]
  },
  {
   "cell_type": "code",
   "execution_count": 41,
   "metadata": {},
   "outputs": [],
   "source": [
    "def budget_momentum(u, omega_u_dz):\n",
    "    u_new = u + (- C_d * PAD * u ** 2 - omega_u_dz) * dt\n",
    "    return u_new"
   ]
  },
  {
   "cell_type": "markdown",
   "metadata": {},
   "source": [
    "### Budget equation for  a scalar\n",
    "The budget equation for scalar $\\xi$ is:\n",
    "\n",
    "$ \\frac{\\partial{<\\overline{\\xi}>}}{\\partial{t}} = S_{\\xi} -  \\frac{\\partial{<\\overline{w'\\xi'}>}}{\\partial{z}}$\n",
    "\n",
    "The funtion \"budget_xi\", gets $<\\overline{\\xi}>(t=t_c,z)$, $\\frac{\\partial{<\\overline{w'\\xi'}>}}{\\partial{z}}(t=t_c, z)$, and $S_{\\xi}(t=t_c,z)$ and returns $<\\overline{\\xi}>(t=t_c+dt,z)$."
   ]
  },
  {
   "cell_type": "code",
   "execution_count": 42,
   "metadata": {},
   "outputs": [],
   "source": [
    "def budget_xi(xi, omega_xi_dz, S_xi):\n",
    "    xi_new = xi + (S_xi - omega_xi_dz) * dt\n",
    "    return xi_new"
   ]
  },
  {
   "cell_type": "markdown",
   "metadata": {},
   "source": [
    "## Source term\n",
    "The source term $S_{\\xi}$ can be computed as:\n",
    "\n",
    "$S_{\\xi} = a(z) G_{\\xi} \\left(\\left<\\overline{\\xi_L}\\right> - \\left<\\overline{\\xi}\\right>\\right)$\n",
    "\n",
    "$G_{\\xi} = g_{b,\\xi} \\ \\ g_{s,\\xi}$"
   ]
  },
  {
   "cell_type": "code",
   "execution_count": 43,
   "metadata": {},
   "outputs": [],
   "source": [
    "def source_term(xi, xi_L, g_b_xi, g_s_xi, option):\n",
    "    if option == 'T':\n",
    "        S_xi = LAD * 1. / (1. / g_b_xi) * (xi_L - xi)\n",
    "    if option == 'e':\n",
    "        S_xi = LAD * 1. / (1. / g_b_xi + 1. / g_s_xi) * (xi_L - xi)\n",
    "    return S_xi"
   ]
  },
  {
   "cell_type": "markdown",
   "metadata": {},
   "source": [
    "## Conductances (boundry-level and stomotal)\n",
    "\n",
    "$g_{b,\\xi} = \\nu_{\\xi} \\left(\\frac{\\left<\\overline{u}\\right>}{0.75 d} \\right)^{0.5}$\n",
    "\n",
    "$g_{s,\\xi} = ... $"
   ]
  },
  {
   "cell_type": "code",
   "execution_count": 44,
   "metadata": {},
   "outputs": [],
   "source": [
    "def boundry_layer_conductance(u, nu_xi):\n",
    "    g_b_xi = nu_xi * np.sqrt(u / (0.75 * d))\n",
    "    return g_b_xi\n",
    "\n",
    "def rediation_assimilation(T_L, V_cmax_25, a_1, a_2, Gamma_star, C_i, kappa_1, kappa_2):\n",
    "    V_cmax = V_cmax_25 * (np.exp(a_1 * (T_L - 25.))) / (1. + np.exp(a_2 * (T_L - 41.) ))\n",
    "    R_d = Kai * V_cmax\n",
    "    A_n = kappa_1 * (C_i - Gamma_star) / (C_i + kappa_2) - R_d\n",
    "    return R_d, A_n"
   ]
  },
  {
   "cell_type": "markdown",
   "metadata": {},
   "source": [
    "### First_order closure model\n",
    "The first_order closure approximation for the turbulance flux in budget equation is:\n",
    "\n",
    "$ <\\overline{w'\\xi'}> = -K_{\\xi} \\frac{\\partial{<\\overline{\\xi}>}}{\\partial{z}}$ and $ <\\overline{w'u'}> = -K_{m} \\frac{\\partial{<\\overline{u}>}}{\\partial{z}}$\n",
    "\n",
    "$K = L^2|\\frac{\\partial{<\\overline{u}>}}{\\partial{z}}|$\n",
    "\n",
    "where $L=\\alpha_{ml} h$ for $z<h$ and $k(z - d_0)$ otherwise. \n",
    "\n",
    "The funtion \"first_order_closure\" gets $\\frac{\\partial{<\\overline{u}>}}{\\partial{z}}(t=t_c,z)$, $\\frac{\\partial{<\\overline{\\xi}>}}{\\partial{z}}(t=t_c,z)$, and other paramters to compute  $<\\overline{w'\\xi'}>(t=t_c,z)$. "
   ]
  },
  {
   "cell_type": "code",
   "execution_count": 45,
   "metadata": {},
   "outputs": [],
   "source": [
    "def first_order_closure(u, u_dz, xi_dz):\n",
    "    d_0 = np.sum(z * u ** 2 * PAD) / np.sum(u ** 2 * PAD) \n",
    "    alpha_ml = k_c * (h_c - d_0) / h_c\n",
    "    L = np.where(z < h_c, alpha_ml * h_c, kc * (z - d_0))\n",
    "    K = L ** 2 * u_dz\n",
    "    omega_xi_dz = -K * xi_dz\n",
    "    return omega_xi_dz\n",
    "\n",
    "def drevative(u):\n",
    "    u_1 = np.roll(u, -1)\n",
    "    u_1[-1] = u[-2]\n",
    "    u_2 = np.roll(u, 1)\n",
    "    u_2[0] = u[1]\n",
    "    u_dz = (u_1 - u_2) / dz\n",
    "    return u_dz"
   ]
  },
  {
   "cell_type": "markdown",
   "metadata": {},
   "source": [
    "## Javis stomatal conductance"
   ]
  },
  {
   "cell_type": "code",
   "execution_count": 46,
   "metadata": {},
   "outputs": [],
   "source": [
    "def javis_stomatal_conductance(phi, T_a, sai_l, RH):\n",
    "    f_phi = 1 - np.exp(-k_1 * phi)\n",
    "    \n",
    "    f_T_a = 1 - k_2 * (T_a - T_opt) ** 2\n",
    "    \n",
    "    if sai_l < sai_l_0:\n",
    "        f_sai_l = 0.\n",
    "    elif sai_l_0 <= sai_l and sai_l <= sai_l_1:\n",
    "        f_sai_l = (sai_l - sai_l_0) / (sai_l_1 - sai_l_0)\n",
    "    else:\n",
    "        f_sai_l = 1.\n",
    "    _, _, vpd = e_and_VPD(RH, T_a)\n",
    "    f_D = 1. / (1 + vpd / D_x)\n",
    "    g_s = g_s_max * f_phi * f_T_a * f_sai_l * f_D\n",
    "    return g_s\n",
    "    \n",
    "def e_and_VPD(RH, T):\n",
    "    e_sat = 611.71 * np.exp(2.501 / (.461*10**-3) * (1./273.15 - 1./T))\n",
    "    e = RH / 100. * e_sat\n",
    "    vpd = e_sat - e\n",
    "    return e, e_sat, vpd\n",
    "\n",
    "def RH_from_e(e, T):\n",
    "    e_sat = 611.71 * np.exp(2.501 / (.461*10**-3) * (1./273.15 - 1./T))\n",
    "    RH = e / e_sat * 100\n",
    "    return RH\n",
    "\n",
    "def e_at_leaf(sai_l, T_l, h):\n",
    "    esat_l = 611.71 * np.exp(2.501 / (.461*10**-3) * (1./273.15 - 1./T_l))\n",
    "    e_l = esat_l * np.exp(nuv * (sai_l - g * row_w * h) / R /T_l);\n",
    "    return e_l"
   ]
  },
  {
   "cell_type": "markdown",
   "metadata": {},
   "source": [
    "## Soil-root-plant conductance"
   ]
  },
  {
   "cell_type": "code",
   "execution_count": 47,
   "metadata": {},
   "outputs": [],
   "source": [
    "def soil_plant_root_conductance(sai_l, s):\n",
    "    RAI = RAIW * s ** (-a)\n",
    "    L = 0.11574 * K_s * s ** (2. * b + 3.)\n",
    "    g_sr = (L * np.sqrt(RAI) * 10 ** 6) / (np.pi * g * row_w * Z_r)\n",
    "    g_p = g_p_max * np.exp(-(-sai_l/ d_1) ** c)\n",
    "    g_srp = (LAI * g_sr * g_p) / (g_sr + LAI * g_p)\n",
    "    return g_srp"
   ]
  },
  {
   "cell_type": "markdown",
   "metadata": {},
   "source": [
    "## Nonlinear solver"
   ]
  },
  {
   "cell_type": "code",
   "execution_count": 48,
   "metadata": {},
   "outputs": [],
   "source": [
    "def solver_objective(x, s, RH, T_a, p0, phi, nu_e, u):\n",
    "    sai_l = x[0]\n",
    "    T_l = x[1]\n",
    "    \n",
    "    sai_s = sai_s_s * s ** (-b)\n",
    "    g_a = boundry_layer_conductance(u, nu_e)\n",
    "    g_s = javis_stomatal_conductance(phi, T_a, sai_l, RH)\n",
    "    g_sa = (g_a * g_s) / (g_a + g_s)\n",
    "    g_srp = soil_plant_root_conductance(sai_l, s)\n",
    "    \n",
    "    e_a, e_sat_a, _ = e_and_VPD(RH, T_a)\n",
    "    esat_l = 611.71 * np.exp(2.501 / (.461*10**-3) * (1./273.15 - 1./T_l))\n",
    "    e_l = esat_l * np.exp(nuv * (sai_l - g * row_w * h_c) / R /T_l);\n",
    "    \n",
    "    E_1 = g_srp * (sai_s - sai_l) * 10 ** (-3) * 24. * 3600.\n",
    "    E_2 = g_sa * 0.622 / p0 * (e_l - e_a) * row / row_w * 24. * 3600.\n",
    "    E_3 = (phi - row * c_p * g_a * 10**(-3) * (T_l - T_a)) / (row_w * lambda_w) * 1000 * 24 * 3600 \n",
    "    \n",
    "    diff = np.abs(E_1 - E_2) + np.abs(E_1 - E_3)\n",
    "    return diff"
   ]
  },
  {
   "cell_type": "markdown",
   "metadata": {},
   "source": [
    "## Inputs"
   ]
  },
  {
   "cell_type": "code",
   "execution_count": 49,
   "metadata": {},
   "outputs": [],
   "source": [
    "## Global physical\n",
    "global g, row_w, nuv, R, lambda_w, c_p\n",
    "g = 9.8\n",
    "row_w = 1000.\n",
    "nuv = 18. / (1000. * row_w)\n",
    "R = 8.314\n",
    "row = 1.225\n",
    "c_p = 1005\n",
    "lambda_w = 2.45 * 10 ** 6\n",
    "\n",
    "# ## Global variables related to atmospheric conductance\n",
    "# global U_w, k, h_c, d, z_o, z_oq\n",
    "# U_w = 5.\n",
    "# \n",
    "# k = 0.41\n",
    "# d = 0.7 * h_c\n",
    "# z_o = d / 10.\n",
    "# z_oq = 0.2 * z_o\n",
    "\n",
    "## Global variables related to atmospheric conductance\n",
    "global nu_T, nu_e ,d\n",
    "d = 0.15\n",
    "nu_T = 1.\n",
    "nu_e = 1.\n",
    "\n",
    "## Global variables related to stomatal conductance\n",
    "global g_s_max, k_1, k_2, T_opt, sai_l_0, sai_l_1, D_x\n",
    "g_s_max = 25\n",
    "k_1 = 0.005\n",
    "k_2 = 0.0016\n",
    "T_opt = 298.\n",
    "sai_l_0 = -4.5\n",
    "sai_l_1 = -0.05\n",
    "D_x = 1250.\n",
    "\n",
    "## Global variables related to soil-root-plant conductance\n",
    "global g_p_max, a, b, c, d_1, RAIW, Z_r, LAI, sai_s_s, K_s\n",
    "g_p_max = 11.7\n",
    "a = 8.\n",
    "b = 5.39\n",
    "c = 2.\n",
    "d_1 = 2.\n",
    "Z_r  = 0.6\n",
    "RAIW = 5.\n",
    "LAI = 1.4\n",
    "sai_s_s = -1.43 * 10 ** (-3)\n",
    "K_s = 20.\n",
    "\n",
    "\n",
    "## Global related to the turbulance simulation\n",
    "global h_c, dz, dt, C_d, PAD, LAD, N_z, k, z\n",
    "h_c = 20.\n",
    "dz = 1.\n",
    "dt = 1. \n",
    "C_d = 0.2\n",
    "N_z = int(h_c / dz)\n",
    "LAD = np.ones(N_z)\n",
    "PAD = np.ones(N_z) * 0.01\n",
    "z = np.arange(0, N_z) * dz\n",
    "k_c = 0.4"
   ]
  },
  {
   "cell_type": "markdown",
   "metadata": {},
   "source": [
    "## Simulation model"
   ]
  },
  {
   "cell_type": "code",
   "execution_count": 50,
   "metadata": {},
   "outputs": [
    {
     "name": "stderr",
     "output_type": "stream",
     "text": [
      "C:\\Users\\milad\\Anaconda2\\lib\\site-packages\\ipykernel_launcher.py:8: RuntimeWarning: invalid value encountered in double_scalars\n",
      "  \n",
      "C:\\Users\\milad\\Anaconda2\\lib\\site-packages\\ipykernel_launcher.py:3: RuntimeWarning: divide by zero encountered in divide\n",
      "  This is separate from the ipykernel package so we can avoid doing imports until\n",
      "C:\\Users\\milad\\Anaconda2\\lib\\site-packages\\ipykernel_launcher.py:5: RuntimeWarning: divide by zero encountered in divide\n",
      "  \"\"\"\n"
     ]
    }
   ],
   "source": [
    "p0 = 101.325 * 10 ** 3\n",
    "s = 0.45\n",
    "phi = 400.\n",
    "inital_T = 293.\n",
    "initial_RH = 0.5\n",
    "u_hc = 5. \n",
    "\n",
    "\n",
    "T = np.ones(N_z) * 293.\n",
    "T_L = np.zeros(N_z)\n",
    "e_L = np.zeros(N_z)\n",
    "e = np.zeros(N_z)\n",
    "for i in range(0, N_z):\n",
    "    e[i], _, _ = e_and_VPD(initial_RH, T[i])\n",
    "sai_L = np.zeros(N_z)    \n",
    "RH = np.zeros(N_z)\n",
    "u = np.arange(0, N_z) / float(N_z) * u_hc\n",
    "g_s_e = np.zeros(N_z)\n",
    "g_s_T = np.zeros(N_z)\n",
    "g_b_e = np.zeros(N_z)\n",
    "g_b_T = np.zeros(N_z)\n",
    "\n",
    "\n",
    "u_dz = drevative(u)\n",
    "omega_u_dz = first_order_closure(u, u_dz, u_dz)\n",
    "u_new = budget_momentum(u, omega_u_dz)\n",
    "\n",
    "bounds = [(-5, 0), (310, 290)]\n",
    "for i in range(0, N_z):\n",
    "    RH[i] = RH_from_e(e[i], T[i])\n",
    "    result = differential_evolution(solver_objective, bounds, args=(s, RH[i], T[i], p0, phi, nu_e, u[i]))\n",
    "    T_L[i] = result.x[1]\n",
    "    sai_L[i] = result.x[0]\n",
    "    e_L[i] = e_at_leaf(sai_L[i], T_L[i], z[i])\n",
    "    g_s_e[i] = javis_stomatal_conductance(phi, T[i], sai_L[i], RH[i])\n",
    "    g_s_T[i] =  0.\n",
    "    g_b_e[i] = boundry_layer_conductance(u[i], nu_e)\n",
    "    g_b_T[i] = boundry_layer_conductance(u[i], nu_T)\n",
    "    \n",
    "#     print RH[i], T_L[i], sai_L[i], g_s_e[i]\n",
    "    \n",
    "S_T = source_term(T, T_L, g_b_T, g_s_T, 'T')\n",
    "S_e = source_term(e, e_L, g_b_e, g_s_e, 'e')\n",
    "\n",
    "T_dz = drevative(T)\n",
    "omega_T_dz = first_order_closure(u, u_dz, T_dz)\n",
    "T_new = budget_xi(T, omega_T_dz, S_T)\n",
    "\n",
    "\n",
    "e_dz = drevative(e)\n",
    "omega_e_dz = first_order_closure(u, u_dz, e_dz)\n",
    "e_new = budget_xi(e, omega_e_dz, S_e)"
   ]
  }
 ],
 "metadata": {
  "kernelspec": {
   "display_name": "Python 2",
   "language": "python",
   "name": "python2"
  },
  "language_info": {
   "codemirror_mode": {
    "name": "ipython",
    "version": 2
   },
   "file_extension": ".py",
   "mimetype": "text/x-python",
   "name": "python",
   "nbconvert_exporter": "python",
   "pygments_lexer": "ipython2",
   "version": "2.7.15"
  }
 },
 "nbformat": 4,
 "nbformat_minor": 2
}
